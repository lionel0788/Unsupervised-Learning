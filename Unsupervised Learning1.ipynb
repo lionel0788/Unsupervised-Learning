{
 "cells": [
  {
   "cell_type": "markdown",
   "metadata": {},
   "source": [
    "Problèmes non supervisés\n",
    "Dans l'apprentissage non supervisé, les machines explorent l'ensemble de données non étiqueté soit pour :\n",
    "\n",
    "Découvrez les regroupements inhérents aux données. Ce processus s'appelle le clustering ."
   ]
  },
  {
   "cell_type": "markdown",
   "metadata": {},
   "source": [
    "La différence entre l'apprentissage supervisé et non supervisé est que l'apprentissage supervisé fonctionne sur des ensembles de données étiquetés, contrairement à l'apprentissage non supervisé qui explore les données brutes sans aucune étiquette.\n",
    "\n",
    "Dans l'apprentissage non supervisé, il y a deux problèmes : les règles de clustering et d'association ."
   ]
  },
  {
   "cell_type": "markdown",
   "metadata": {},
   "source": [
    "Types de regroupement\n",
    "Le clustering hiérarchique est une méthode de clustering qui cherche à construire une hiérarchie de clusters.\n",
    "\n",
    "Il en existe deux types : le clustering diviseur et le clustering agglomératif ."
   ]
  },
  {
   "cell_type": "markdown",
   "metadata": {},
   "source": [
    "Pourquoi choisir le clustering hiérarchique ?\n",
    "Nous pouvons souhaiter utiliser le clustering hiérarchique lorsque :\n",
    "\n",
    "On ne connaît pas à l'avance le nombre de clusters.\n",
    "\n",
    "Lorsque les données sous-jacentes ont une structure hiérarchique.\n",
    "\n",
    "Nous voulons visualiser comment les clusters sont constitués."
   ]
  },
  {
   "cell_type": "markdown",
   "metadata": {},
   "source": [
    "Étapes d'agglomération\n",
    "Considérons les six points de données comme des clusters individuels .\n",
    "\n",
    "Nous calculons la matrice de distance qui contient la distance entre tous les clusters.\n",
    "\n",
    "Les clusters similaires sont fusionnés et forment un seul cluster .\n",
    "\n",
    "Nous répétons la deuxième et la troisième étape jusqu'à ce que tous les clusters soient fusionnés et forment un seul cluster ou jusqu'à ce que des K-clusters soient formés\n",
    "\n",
    "Mais comment détermine-t-on la distance entre deux clusters ?"
   ]
  },
  {
   "cell_type": "markdown",
   "metadata": {},
   "source": [
    "Distance du cluster agglomératif\n",
    "Il existe de nombreuses méthodes pour déterminer la distance entre deux clusters et l'une d'entre elles est la méthode de liaison complète .\n",
    "\n",
    "En fait, avec cette méthode, la distance entre deux clusters est définie comme la distance la plus longue entre deux points de chaque cluster.\n",
    "\n",
    "Notez ici que nous utilisons généralement la distance euclidienne pour calculer la distance entre deux points."
   ]
  },
  {
   "cell_type": "markdown",
   "metadata": {},
   "source": [
    "Visualisation agglomérative\n",
    "Le résultat principal du clustering hiérarchique est un dendrogramme.\n",
    "\n",
    "Nous pouvons utiliser un dendrogramme pour :\n",
    "\n",
    "Capturez la relation hiérarchique entre les clusters.\n",
    "\n",
    "Comprendre comment chaque cluster a été créé.\n",
    "\n",
    "Choisissez la bonne valeur des clusters K finaux."
   ]
  },
  {
   "cell_type": "code",
   "execution_count": 1,
   "metadata": {},
   "outputs": [],
   "source": [
    "#from sklearn.cluster import AgglomerativeClustering #Importing our clustering algorithm : Agglomerative\n",
    "#model=AgglomerativeClustering(n_clusters=5, affinity='euclidean', linkage='complete')\n",
    "#clust_labels=model.fit_predict(data)  #Applying agglomerative algorithm with 5 clusters, using euclidean distance as a metric"
   ]
  },
  {
   "cell_type": "code",
   "execution_count": 2,
   "metadata": {},
   "outputs": [],
   "source": [
    "#Parcelle de grappes agglomératives\n",
    "#Chaque groupe coloré représente un cluster.\n",
    "\n",
    "#import matplotlib.pyplot as plt\n",
    "#fig =plt.figure()\n",
    "#ax = fig.add_subplot(111)\n",
    "#scatter = ax.scatter (data ['Annual Income (k$)'] , data [\"Spending Score (1-100)\"] , c= agglomerative[0], s=50)\n",
    "#ax.set_title(\"Agglomerative Clutering\")\n",
    "#ax.set_xlabel(\"Annual Income (k$)\")\n",
    "#ax.set_ylabel(\"Spending Score (1-100)\")\n",
    "#plt.colorbar(scatter)"
   ]
  },
  {
   "cell_type": "code",
   "execution_count": 3,
   "metadata": {},
   "outputs": [],
   "source": [
    "#Exemple de dendrogramme\n",
    "#import matplotlib.pyplot as plt\n",
    "#import scipy.cluster.hierarchy as shc\n",
    "#plt.figure(figsize=(10,7))\n",
    "#plt.title(\"Customer Dendrograms\")\n",
    "#dend=shc.dendrogram(shc.linkage(data, method=\"complete\"))"
   ]
  },
  {
   "cell_type": "markdown",
   "metadata": {},
   "source": [
    "L'une des multiples façons d'effectuer le clustering consiste à utiliser le clustering hiérarchique .\n",
    "\n",
    "Dans le clustering hiérarchique, il existe deux types : diviseur et agglomérant .\n",
    "\n",
    "Pour visualiser comment les groupes sont constitués, nous pouvons utiliser un dendrogramme ."
   ]
  },
  {
   "cell_type": "markdown",
   "metadata": {},
   "source": [
    "Clustering partitionnel\n",
    "Le clustering partitionnel divise directement les objets de données en un nombre prédéfini de clusters sans aucune structure hiérarchique de sorte que :\n",
    "\n",
    "Chaque groupe contient au moins un point.\n",
    "\n",
    "Chaque point appartient à exactement un groupe.\n",
    "\n",
    "L'un des algorithmes de clustering partitionnel est le k-means ."
   ]
  },
  {
   "cell_type": "markdown",
   "metadata": {},
   "source": [
    "K-means Concept\n",
    "Le but de l' algorithme k-means est de trouver des groupes dans les données, avec le nombre de groupes représentés par la variable K.\n",
    "\n",
    "Cet algorithme est basé sur le concept que chaque cluster peut être représenté par son centre .\n",
    "\n",
    "Donc, pour trouver ces clusters, k-means commence par attribuer au hasard des centres K puis essaie d'attacher les points les plus proches de ces centres."
   ]
  },
  {
   "cell_type": "code",
   "execution_count": 4,
   "metadata": {},
   "outputs": [],
   "source": [
    "#K-means Exemple\n",
    "#from sklearn.cluster import KMeans  #Importing our clustering algorithm: KMeans\n",
    "#kmeans=KMeans(n_clusters=5, random_state=0)  #Cluster our data by choosing 5 as number of clusters\n",
    "#kmeans.fit(data)"
   ]
  },
  {
   "cell_type": "markdown",
   "metadata": {},
   "source": [
    "Meilleure valeur k\n",
    "L'une des tâches les plus difficiles que nous pouvons rencontrer lors de l'utilisation de K-means est le choix du nombre de clusters.\n",
    "\n",
    "L'une des méthodes utilisées pour déterminer la meilleure valeur de K est la méthode Elbow qui repose sur l'idée que pour avoir une bonne qualité d'un cluster :\n",
    "\n",
    "L'observation attachée à ce cluster doit être aussi proche que possible du centre du cluster.\n",
    "\n",
    "Nous utiliserons SSE, Sum Squared Error , dans cette méthode pour déterminer la somme de la différence au carré entre le centre du cluster et chaque observation liée à ce cluster.\n",
    "\n",
    "Il est donc logique de supposer que nous essaierons de minimiser SSE ."
   ]
  },
  {
   "cell_type": "code",
   "execution_count": 7,
   "metadata": {},
   "outputs": [],
   "source": [
    "#plt.plot(k,sum_of_squared_distances,'bx')\n",
    "#plt.xlabel('k')\n",
    "#plt.ylabel('Sum_of_squared_distances')\n",
    "#plt.title('Elbow Method For Optimal k')\n",
    "#plt.show()"
   ]
  },
  {
   "cell_type": "markdown",
   "metadata": {},
   "source": [
    "K Means avantages\n",
    "Facile à mettre en œuvre.\n",
    "\n",
    "Avec un grand nombre de variables, K-Means peut être plus rapide en termes de calcul que le clustering hiérarchique (si K est petit).\n",
    "\n",
    "k-Means peut produire des clusters plus serrés que le clustering hiérarchique.\n",
    "\n",
    "Une instance peut changer de cluster (passer à un autre cluster) lorsque les centroïdes sont recalculés."
   ]
  },
  {
   "cell_type": "markdown",
   "metadata": {},
   "source": [
    "K Means Inconvénients\n",
    "Difficile de prédire le nombre de clusters (K-Value).\n",
    "\n",
    "Les semences initiales ont un fort impact sur les résultats finaux.\n",
    "\n",
    "L'ordre des données a un impact sur les résultats finaux.\n",
    "\n",
    "Sensible à l'échelle : la remise à l'échelle de vos ensembles de données (normalisation ou standardisation) modifiera complètement les résultats. Bien que cela ne soit pas mauvais en soi, ne pas se rendre compte que vous devez accorder une attention particulière à la mise à l'échelle de vos données peut être mauvais."
   ]
  },
  {
   "cell_type": "markdown",
   "metadata": {},
   "source": [
    "Kmeans est un algorithme de clustering .\n",
    "\n",
    "Il fonctionne en fonction des centroïdes et des distances entre les centroïdes et les données.\n",
    "\n",
    "Trouver la meilleure valeur K peut parfois être difficile, c'est pourquoi nous pouvons utiliser la méthode du coude ."
   ]
  },
  {
   "cell_type": "markdown",
   "metadata": {},
   "source": [
    "# K-means and hierarchical clustering"
   ]
  },
  {
   "cell_type": "code",
   "execution_count": 8,
   "metadata": {},
   "outputs": [],
   "source": [
    "#1. Chargez votre jeu de données."
   ]
  },
  {
   "cell_type": "code",
   "execution_count": 9,
   "metadata": {},
   "outputs": [],
   "source": [
    "from sklearn import datasets\n",
    "import pandas as pd\n",
    "from sklearn.model_selection import train_test_split\n",
    "from sklearn.ensemble import RandomForestClassifier #Importing Random Forest Classifier\n",
    "from sklearn import metrics  # Importing metrics to test accuracy"
   ]
  },
  {
   "cell_type": "code",
   "execution_count": 10,
   "metadata": {},
   "outputs": [],
   "source": [
    "df=pd.read_csv('C:/Users/DELL/Desktop/GOMYCODE/CC_GENERAL.csv')"
   ]
  },
  {
   "cell_type": "code",
   "execution_count": 11,
   "metadata": {},
   "outputs": [
    {
     "data": {
      "text/html": [
       "<div>\n",
       "<style scoped>\n",
       "    .dataframe tbody tr th:only-of-type {\n",
       "        vertical-align: middle;\n",
       "    }\n",
       "\n",
       "    .dataframe tbody tr th {\n",
       "        vertical-align: top;\n",
       "    }\n",
       "\n",
       "    .dataframe thead th {\n",
       "        text-align: right;\n",
       "    }\n",
       "</style>\n",
       "<table border=\"1\" class=\"dataframe\">\n",
       "  <thead>\n",
       "    <tr style=\"text-align: right;\">\n",
       "      <th></th>\n",
       "      <th>CUST_ID</th>\n",
       "      <th>BALANCE</th>\n",
       "      <th>BALANCE_FREQUENCY</th>\n",
       "      <th>PURCHASES</th>\n",
       "      <th>ONEOFF_PURCHASES</th>\n",
       "      <th>INSTALLMENTS_PURCHASES</th>\n",
       "      <th>CASH_ADVANCE</th>\n",
       "      <th>PURCHASES_FREQUENCY</th>\n",
       "      <th>ONEOFF_PURCHASES_FREQUENCY</th>\n",
       "      <th>PURCHASES_INSTALLMENTS_FREQUENCY</th>\n",
       "      <th>CASH_ADVANCE_FREQUENCY</th>\n",
       "      <th>CASH_ADVANCE_TRX</th>\n",
       "      <th>PURCHASES_TRX</th>\n",
       "      <th>CREDIT_LIMIT</th>\n",
       "      <th>PAYMENTS</th>\n",
       "      <th>MINIMUM_PAYMENTS</th>\n",
       "      <th>PRC_FULL_PAYMENT</th>\n",
       "      <th>TENURE</th>\n",
       "    </tr>\n",
       "  </thead>\n",
       "  <tbody>\n",
       "    <tr>\n",
       "      <th>0</th>\n",
       "      <td>C10001</td>\n",
       "      <td>40.900749</td>\n",
       "      <td>0.818182</td>\n",
       "      <td>95.40</td>\n",
       "      <td>0.00</td>\n",
       "      <td>95.4</td>\n",
       "      <td>0.000000</td>\n",
       "      <td>0.166667</td>\n",
       "      <td>0.000000</td>\n",
       "      <td>0.083333</td>\n",
       "      <td>0.000000</td>\n",
       "      <td>0</td>\n",
       "      <td>2</td>\n",
       "      <td>1000.0</td>\n",
       "      <td>201.802084</td>\n",
       "      <td>139.509787</td>\n",
       "      <td>0.000000</td>\n",
       "      <td>12</td>\n",
       "    </tr>\n",
       "    <tr>\n",
       "      <th>1</th>\n",
       "      <td>C10002</td>\n",
       "      <td>3202.467416</td>\n",
       "      <td>0.909091</td>\n",
       "      <td>0.00</td>\n",
       "      <td>0.00</td>\n",
       "      <td>0.0</td>\n",
       "      <td>6442.945483</td>\n",
       "      <td>0.000000</td>\n",
       "      <td>0.000000</td>\n",
       "      <td>0.000000</td>\n",
       "      <td>0.250000</td>\n",
       "      <td>4</td>\n",
       "      <td>0</td>\n",
       "      <td>7000.0</td>\n",
       "      <td>4103.032597</td>\n",
       "      <td>1072.340217</td>\n",
       "      <td>0.222222</td>\n",
       "      <td>12</td>\n",
       "    </tr>\n",
       "    <tr>\n",
       "      <th>2</th>\n",
       "      <td>C10003</td>\n",
       "      <td>2495.148862</td>\n",
       "      <td>1.000000</td>\n",
       "      <td>773.17</td>\n",
       "      <td>773.17</td>\n",
       "      <td>0.0</td>\n",
       "      <td>0.000000</td>\n",
       "      <td>1.000000</td>\n",
       "      <td>1.000000</td>\n",
       "      <td>0.000000</td>\n",
       "      <td>0.000000</td>\n",
       "      <td>0</td>\n",
       "      <td>12</td>\n",
       "      <td>7500.0</td>\n",
       "      <td>622.066742</td>\n",
       "      <td>627.284787</td>\n",
       "      <td>0.000000</td>\n",
       "      <td>12</td>\n",
       "    </tr>\n",
       "    <tr>\n",
       "      <th>3</th>\n",
       "      <td>C10004</td>\n",
       "      <td>1666.670542</td>\n",
       "      <td>0.636364</td>\n",
       "      <td>1499.00</td>\n",
       "      <td>1499.00</td>\n",
       "      <td>0.0</td>\n",
       "      <td>205.788017</td>\n",
       "      <td>0.083333</td>\n",
       "      <td>0.083333</td>\n",
       "      <td>0.000000</td>\n",
       "      <td>0.083333</td>\n",
       "      <td>1</td>\n",
       "      <td>1</td>\n",
       "      <td>7500.0</td>\n",
       "      <td>0.000000</td>\n",
       "      <td>NaN</td>\n",
       "      <td>0.000000</td>\n",
       "      <td>12</td>\n",
       "    </tr>\n",
       "    <tr>\n",
       "      <th>4</th>\n",
       "      <td>C10005</td>\n",
       "      <td>817.714335</td>\n",
       "      <td>1.000000</td>\n",
       "      <td>16.00</td>\n",
       "      <td>16.00</td>\n",
       "      <td>0.0</td>\n",
       "      <td>0.000000</td>\n",
       "      <td>0.083333</td>\n",
       "      <td>0.083333</td>\n",
       "      <td>0.000000</td>\n",
       "      <td>0.000000</td>\n",
       "      <td>0</td>\n",
       "      <td>1</td>\n",
       "      <td>1200.0</td>\n",
       "      <td>678.334763</td>\n",
       "      <td>244.791237</td>\n",
       "      <td>0.000000</td>\n",
       "      <td>12</td>\n",
       "    </tr>\n",
       "  </tbody>\n",
       "</table>\n",
       "</div>"
      ],
      "text/plain": [
       "  CUST_ID      BALANCE  BALANCE_FREQUENCY  PURCHASES  ONEOFF_PURCHASES  \\\n",
       "0  C10001    40.900749           0.818182      95.40              0.00   \n",
       "1  C10002  3202.467416           0.909091       0.00              0.00   \n",
       "2  C10003  2495.148862           1.000000     773.17            773.17   \n",
       "3  C10004  1666.670542           0.636364    1499.00           1499.00   \n",
       "4  C10005   817.714335           1.000000      16.00             16.00   \n",
       "\n",
       "   INSTALLMENTS_PURCHASES  CASH_ADVANCE  PURCHASES_FREQUENCY  \\\n",
       "0                    95.4      0.000000             0.166667   \n",
       "1                     0.0   6442.945483             0.000000   \n",
       "2                     0.0      0.000000             1.000000   \n",
       "3                     0.0    205.788017             0.083333   \n",
       "4                     0.0      0.000000             0.083333   \n",
       "\n",
       "   ONEOFF_PURCHASES_FREQUENCY  PURCHASES_INSTALLMENTS_FREQUENCY  \\\n",
       "0                    0.000000                          0.083333   \n",
       "1                    0.000000                          0.000000   \n",
       "2                    1.000000                          0.000000   \n",
       "3                    0.083333                          0.000000   \n",
       "4                    0.083333                          0.000000   \n",
       "\n",
       "   CASH_ADVANCE_FREQUENCY  CASH_ADVANCE_TRX  PURCHASES_TRX  CREDIT_LIMIT  \\\n",
       "0                0.000000                 0              2        1000.0   \n",
       "1                0.250000                 4              0        7000.0   \n",
       "2                0.000000                 0             12        7500.0   \n",
       "3                0.083333                 1              1        7500.0   \n",
       "4                0.000000                 0              1        1200.0   \n",
       "\n",
       "      PAYMENTS  MINIMUM_PAYMENTS  PRC_FULL_PAYMENT  TENURE  \n",
       "0   201.802084        139.509787          0.000000      12  \n",
       "1  4103.032597       1072.340217          0.222222      12  \n",
       "2   622.066742        627.284787          0.000000      12  \n",
       "3     0.000000               NaN          0.000000      12  \n",
       "4   678.334763        244.791237          0.000000      12  "
      ]
     },
     "execution_count": 11,
     "metadata": {},
     "output_type": "execute_result"
    }
   ],
   "source": [
    "df.head()"
   ]
  },
  {
   "cell_type": "code",
   "execution_count": 12,
   "metadata": {},
   "outputs": [
    {
     "data": {
      "text/plain": [
       "(8950, 18)"
      ]
     },
     "execution_count": 12,
     "metadata": {},
     "output_type": "execute_result"
    }
   ],
   "source": [
    "df.shape"
   ]
  },
  {
   "cell_type": "code",
   "execution_count": 13,
   "metadata": {},
   "outputs": [
    {
     "data": {
      "text/plain": [
       "float64    14\n",
       "int64       3\n",
       "object      1\n",
       "dtype: int64"
      ]
     },
     "execution_count": 13,
     "metadata": {},
     "output_type": "execute_result"
    }
   ],
   "source": [
    "df.dtypes.value_counts()"
   ]
  },
  {
   "cell_type": "code",
   "execution_count": 14,
   "metadata": {},
   "outputs": [
    {
     "data": {
      "text/plain": [
       "CUST_ID                               0\n",
       "BALANCE                               0\n",
       "BALANCE_FREQUENCY                     0\n",
       "PURCHASES                             0\n",
       "ONEOFF_PURCHASES                      0\n",
       "INSTALLMENTS_PURCHASES                0\n",
       "CASH_ADVANCE                          0\n",
       "PURCHASES_FREQUENCY                   0\n",
       "ONEOFF_PURCHASES_FREQUENCY            0\n",
       "PURCHASES_INSTALLMENTS_FREQUENCY      0\n",
       "CASH_ADVANCE_FREQUENCY                0\n",
       "CASH_ADVANCE_TRX                      0\n",
       "PURCHASES_TRX                         0\n",
       "CREDIT_LIMIT                          1\n",
       "PAYMENTS                              0\n",
       "MINIMUM_PAYMENTS                    313\n",
       "PRC_FULL_PAYMENT                      0\n",
       "TENURE                                0\n",
       "dtype: int64"
      ]
     },
     "execution_count": 14,
     "metadata": {},
     "output_type": "execute_result"
    }
   ],
   "source": [
    "df.isna().sum()"
   ]
  },
  {
   "cell_type": "code",
   "execution_count": 15,
   "metadata": {},
   "outputs": [
    {
     "data": {
      "text/plain": [
       "864.2065423050814"
      ]
     },
     "execution_count": 15,
     "metadata": {},
     "output_type": "execute_result"
    }
   ],
   "source": [
    "df.MINIMUM_PAYMENTS.mean()"
   ]
  },
  {
   "cell_type": "code",
   "execution_count": 16,
   "metadata": {},
   "outputs": [],
   "source": [
    "df.MINIMUM_PAYMENTS.fillna(df.MINIMUM_PAYMENTS.mean(),inplace=True)\n",
    "df.CREDIT_LIMIT.fillna(df.CREDIT_LIMIT.mean(),inplace=True)"
   ]
  },
  {
   "cell_type": "code",
   "execution_count": 17,
   "metadata": {},
   "outputs": [
    {
     "data": {
      "text/plain": [
       "CUST_ID                             0\n",
       "BALANCE                             0\n",
       "BALANCE_FREQUENCY                   0\n",
       "PURCHASES                           0\n",
       "ONEOFF_PURCHASES                    0\n",
       "INSTALLMENTS_PURCHASES              0\n",
       "CASH_ADVANCE                        0\n",
       "PURCHASES_FREQUENCY                 0\n",
       "ONEOFF_PURCHASES_FREQUENCY          0\n",
       "PURCHASES_INSTALLMENTS_FREQUENCY    0\n",
       "CASH_ADVANCE_FREQUENCY              0\n",
       "CASH_ADVANCE_TRX                    0\n",
       "PURCHASES_TRX                       0\n",
       "CREDIT_LIMIT                        0\n",
       "PAYMENTS                            0\n",
       "MINIMUM_PAYMENTS                    0\n",
       "PRC_FULL_PAYMENT                    0\n",
       "TENURE                              0\n",
       "dtype: int64"
      ]
     },
     "execution_count": 17,
     "metadata": {},
     "output_type": "execute_result"
    }
   ],
   "source": [
    "df.isna().sum()"
   ]
  },
  {
   "cell_type": "code",
   "execution_count": 18,
   "metadata": {},
   "outputs": [],
   "source": [
    "#2. Utilisez le clustering hiérarchique pour identifier les regroupements inhérents au sein de vos données."
   ]
  },
  {
   "cell_type": "markdown",
   "metadata": {},
   "source": [
    "# Train Test Split"
   ]
  },
  {
   "cell_type": "code",
   "execution_count": 19,
   "metadata": {},
   "outputs": [],
   "source": [
    "from sklearn.model_selection import train_test_split"
   ]
  },
  {
   "cell_type": "markdown",
   "metadata": {},
   "source": [
    "#  Hierarchical Clustering"
   ]
  },
  {
   "cell_type": "code",
   "execution_count": 20,
   "metadata": {},
   "outputs": [],
   "source": [
    "df1=df.drop(['CUST_ID'],axis=1)"
   ]
  },
  {
   "cell_type": "code",
   "execution_count": 21,
   "metadata": {},
   "outputs": [],
   "source": [
    "from sklearn.cluster import AgglomerativeClustering #Importing our clustering algorithm : Agglomerative\n",
    "model=AgglomerativeClustering(n_clusters=5, affinity='euclidean', linkage='complete')\n",
    "clust_labels=model.fit_predict(df1)  #Applying agglomerative algorithm with 5 clusters, using euclidean distance as a metric"
   ]
  },
  {
   "cell_type": "code",
   "execution_count": 22,
   "metadata": {},
   "outputs": [],
   "source": [
    "#3. Tracez les clusters. "
   ]
  },
  {
   "cell_type": "code",
   "execution_count": 23,
   "metadata": {},
   "outputs": [
    {
     "data": {
      "text/plain": [
       "<matplotlib.colorbar.Colorbar at 0x20f80e91130>"
      ]
     },
     "execution_count": 23,
     "metadata": {},
     "output_type": "execute_result"
    },
    {
     "data": {
      "image/png": "[encoded data removed]",
      "text/plain": [
       "<Figure size 432x288 with 2 Axes>"
      ]
     },
     "metadata": {
      "needs_background": "light"
     },
     "output_type": "display_data"
    }
   ],
   "source": [
    "#Parcelle de grappes agglomératives\n",
    "#Chaque groupe coloré représente un cluster.\n",
    "\n",
    "import matplotlib.pyplot as plt\n",
    "fig =plt.figure()\n",
    "ax = fig.add_subplot(111)\n",
    "scatter = ax.scatter (df1['PAYMENTS'] , df1 [\"MINIMUM_PAYMENTS\"] , s=50)\n",
    "ax.set_title(\"Agglomerative Clutering\")\n",
    "ax.set_xlabel(\"PAYMENTS\")\n",
    "ax.set_ylabel(\"MINIMUM_PAYMENTS\")\n",
    "plt.colorbar(scatter)"
   ]
  },
  {
   "cell_type": "code",
   "execution_count": 24,
   "metadata": {},
   "outputs": [],
   "source": [
    "#4. Tracez le dendrogramme. Utilisez le clustering k-means. "
   ]
  },
  {
   "cell_type": "markdown",
   "metadata": {},
   "source": [
    "# K-Means"
   ]
  },
  {
   "cell_type": "code",
   "execution_count": 25,
   "metadata": {},
   "outputs": [
    {
     "data": {
      "text/plain": [
       "KMeans(n_clusters=5, random_state=0)"
      ]
     },
     "execution_count": 25,
     "metadata": {},
     "output_type": "execute_result"
    }
   ],
   "source": [
    "from sklearn.cluster import KMeans  #Importing our clustering algorithm: KMeans\n",
    "kmeans=KMeans(n_clusters=5, random_state=0)  #Cluster our data by choosing 5 as number of clusters\n",
    "kmeans.fit(df1)"
   ]
  },
  {
   "cell_type": "code",
   "execution_count": 26,
   "metadata": {},
   "outputs": [
    {
     "name": "stdout",
     "output_type": "stream",
     "text": [
      "[[7.87525310e+02 8.49448814e-01 5.09892313e+02 2.49369084e+02\n",
      "  2.60819413e+02 4.83252005e+02 4.51462729e-01 1.30904213e-01\n",
      "  3.47030392e-01 1.09189353e-01 2.28054545e+00 9.50563636e+00\n",
      "  2.22747849e+03 9.04173576e+02 5.26793626e+02 1.48620153e-01\n",
      "  1.13792727e+01]\n",
      " [5.48720526e+03 9.54910300e-01 2.40789541e+03 1.55343184e+03\n",
      "  8.54576730e+02 4.13952954e+03 5.31917954e-01 3.25465421e-01\n",
      "  4.01272510e-01 3.11313742e-01 9.66793893e+00 3.05114504e+01\n",
      "  1.13739880e+04 5.66199017e+03 1.97499024e+03 1.07193598e-01\n",
      "  1.17302799e+01]\n",
      " [4.05814769e+03 9.88636375e-01 1.02737875e+03 1.18389464e+02\n",
      "  9.08989286e+02 9.22757849e+02 4.71320321e-01 3.92315536e-02\n",
      "  4.41152625e-01 1.05654714e-01 3.01785714e+00 1.86250000e+01\n",
      "  4.26785714e+03 1.62493914e+03 2.27600316e+04 1.48808929e-03\n",
      "  1.19107143e+01]\n",
      " [5.14958549e+03 9.04434585e-01 1.95473678e+04 1.43043888e+04\n",
      "  5.24297902e+03 4.86981405e+03 8.28861756e-01 6.90243927e-01\n",
      "  6.98373976e-01 1.40243878e-01 7.80487805e+00 1.10658537e+02\n",
      "  1.48926829e+04 2.62560508e+04 2.87567961e+03 4.76472902e-01\n",
      "  1.19512195e+01]\n",
      " [1.91637238e+03 9.10245254e-01 1.33334416e+03 8.24572392e+02\n",
      "  5.09149123e+02 1.01207768e+03 5.55951545e-01 3.13872343e-01\n",
      "  3.83447206e-01 1.37374323e-01 3.29022205e+00 1.94039735e+01\n",
      "  7.08400326e+03 1.91697073e+03 7.37232821e+02 1.77040270e-01\n",
      "  1.17323724e+01]]\n"
     ]
    }
   ],
   "source": [
    "#Centroïdes K-means\n",
    "kmeans.predict(df1)\n",
    "print(kmeans.cluster_centers_)   #Printing the coordinates of cluster centers."
   ]
  },
  {
   "cell_type": "markdown",
   "metadata": {},
   "source": [
    "# Dendrogram"
   ]
  },
  {
   "cell_type": "code",
   "execution_count": 27,
   "metadata": {},
   "outputs": [
    {
     "data": {
      "image/png": "[encoded data removed]",
      "text/plain": [
       "<Figure size 720x504 with 1 Axes>"
      ]
     },
     "metadata": {
      "needs_background": "light"
     },
     "output_type": "display_data"
    }
   ],
   "source": [
    "import matplotlib.pyplot as plt\n",
    "import scipy.cluster.hierarchy as shc\n",
    "plt.figure(figsize=(10,7))\n",
    "plt.title(\"Customer Dendrograms\")\n",
    "dend=shc.dendrogram(shc.linkage(kmeans.cluster_centers_, method=\"complete\"))"
   ]
  },
  {
   "cell_type": "code",
   "execution_count": 28,
   "metadata": {},
   "outputs": [],
   "source": [
    "#5. Essayez différentes valeurs de k et sélectionnez la meilleure."
   ]
  },
  {
   "cell_type": "code",
   "execution_count": 29,
   "metadata": {},
   "outputs": [
    {
     "data": {
      "image/png": "[encoded data removed]",
      "text/plain": [
       "<Figure size 432x288 with 1 Axes>"
      ]
     },
     "metadata": {
      "needs_background": "light"
     },
     "output_type": "display_data"
    }
   ],
   "source": [
    "from sklearn.cluster import KMeans\n",
    "wcss=[]\n",
    "for i in range(1,11):\n",
    "    kmeans=KMeans(n_clusters=i,init='k-means++',random_state=0)\n",
    "    kmeans.fit(df1)\n",
    "    wcss.append(kmeans.inertia_)\n",
    "plt.plot(range(1,11),wcss)\n",
    "plt.title('The Elbow Method')\n",
    "plt.xlabel('Number of clusters')\n",
    "plt.ylabel('WCSS')\n",
    "plt.show()"
   ]
  },
  {
   "cell_type": "code",
   "execution_count": 30,
   "metadata": {},
   "outputs": [
    {
     "data": {
      "text/plain": [
       "KMeans(n_clusters=5, random_state=0)"
      ]
     },
     "execution_count": 30,
     "metadata": {},
     "output_type": "execute_result"
    }
   ],
   "source": [
    "from sklearn.cluster import KMeans  #Importing our clustering algorithm: KMeans\n",
    "kmeans=KMeans(n_clusters=5, random_state=0)  #Cluster our data by choosing 5 as number of clusters\n",
    "kmeans.fit(df1)"
   ]
  },
  {
   "cell_type": "code",
   "execution_count": 31,
   "metadata": {},
   "outputs": [],
   "source": [
    "y_kmeans=kmeans.predict(df1)"
   ]
  },
  {
   "cell_type": "code",
   "execution_count": 32,
   "metadata": {},
   "outputs": [],
   "source": [
    "#6. Tracez les clusters. "
   ]
  },
  {
   "cell_type": "code",
   "execution_count": 33,
   "metadata": {},
   "outputs": [],
   "source": [
    "X=df.iloc[:,[3,4]].values"
   ]
  },
  {
   "cell_type": "code",
   "execution_count": 34,
   "metadata": {},
   "outputs": [
    {
     "data": {
      "image/png": "[encoded data removed]",
      "text/plain": [
       "<Figure size 432x288 with 1 Axes>"
      ]
     },
     "metadata": {
      "needs_background": "light"
     },
     "output_type": "display_data"
    }
   ],
   "source": [
    "plt.scatter(X[y_kmeans==0,0],X[y_kmeans==0,1],s=100,c='red',label='Cluster 1')\n",
    "plt.scatter(X[y_kmeans==1,0],X[y_kmeans==1,1],s=100,c='blue',label='Cluster 2')\n",
    "plt.scatter(X[y_kmeans==2,0],X[y_kmeans==2,1],s=100,c='green',label='Cluster 3')\n",
    "plt.scatter(X[y_kmeans==3,0],X[y_kmeans==3,1],s=100,c='cyan',label='Cluster 4')\n",
    "plt.scatter(X[y_kmeans==4,0],X[y_kmeans==4,1],s=100,c='magenta',label='Cluster 5')\n",
    "plt.scatter(kmeans.cluster_centers_[:,0],kmeans.cluster_centers_[:,1],s=50,c='yellow',label='Centroids')\n",
    "plt.title('Clusters of Customers')\n",
    "plt.xlabel('x')\n",
    "plt.ylabel('y')\n",
    "plt.legend()\n",
    "plt.show()"
   ]
  },
  {
   "cell_type": "code",
   "execution_count": 35,
   "metadata": {},
   "outputs": [],
   "source": [
    "#Bonus : recherchez une autre métrique de validation"
   ]
  },
  {
   "cell_type": "markdown",
   "metadata": {},
   "source": [
    "# Indice de Dunn:"
   ]
  },
  {
   "cell_type": "markdown",
   "metadata": {},
   "source": [
    "Dunn's Index (DI) (introduced by JC Dunn in 1974), a metric for evaluating clustering algorithms, is an internal evaluation scheme, where the result is based on the clustered data itself. Like all other indices of this type, the purpose of this Dunn's index is to identify sets of compact clusters, with small variance between cluster members, and well separated, where the means of the different clusters are far enough apart, relative to the within cluster variance.\n",
    "The higher the value of the Dunn index, the better the clustering. The number of clusters that maximizes Dunn's index is considered the optimal number of clusters k. It also has some drawbacks. As the number of clusters and the dimensionality of the data increases, the computational cost also increases."
   ]
  }
 ],
 "metadata": {
  "kernelspec": {
   "display_name": "Python 3",
   "language": "python",
   "name": "python3"
  },
  "language_info": {
   "codemirror_mode": {
    "name": "ipython",
    "version": 3
   },
   "file_extension": ".py",
   "mimetype": "text/x-python",
   "name": "python",
   "nbconvert_exporter": "python",
   "pygments_lexer": "ipython3",
   "version": "3.8.5"
  }
 },
 "nbformat": 4,
 "nbformat_minor": 4
}
